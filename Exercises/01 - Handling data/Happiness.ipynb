{
 "cells": [
  {
   "cell_type": "markdown",
   "metadata": {},
   "source": [
    "## Data from World Happiness Report\n",
    "\n",
    "The World Happiness Report is an annual publication of the United Nations Sustainable Development Solutions Network. It contains articles, and rankings of national happiness based on respondent ratings of their own lives, which the report also correlates with various life factors.\n",
    "\n",
    "In this notebook we will explore the happiness of different countries and the features associated.\n",
    "The datasets that we will use are available in *Data*: **happiness2020.pkl** and **countries_info.csv**.\n",
    "\n",
    "Although the features are self-explanatory, here a summary: \n",
    "\n",
    "**happiness2020.pkl**\n",
    "* country: *Name of the country*\n",
    "* happiness_score: *Happiness score*\n",
    "* social_support: *Social support (mitigation the effects of inequality)*\n",
    "* healthy_life_expectancy: *Healthy Life Expectancy*\n",
    "* freedom_of_choices: *Freedom to make life choices*\n",
    "* generosity: *Generosity (charity, volunteers)*\n",
    "* perception_of_corruption: *Corruption Perception*\n",
    "* world_region: *Area of the world of the country*\n",
    "\n",
    "**countries_info.csv**\n",
    "* country_name: *Name of the country*\n",
    "* area: *Area in sq mi*\n",
    "* population: *Number of people*\n",
    "* literacy: *Literacy percentage*"
   ]
  },
  {
   "cell_type": "code",
   "execution_count": 1,
   "metadata": {},
   "outputs": [
    {
     "name": "stdout",
     "output_type": "stream",
     "text": [
      "country_name,area,population,literacy\n",
      "afghanistan,647500,31056997,\"36,0\"\n",
      "albania,28748,3581655,\"86,5\"\n",
      "algeria,2381740,32930091,\"70,0\"\n",
      "argentina,2766890,39921833,\"97,1\"\n",
      "armenia,29800,2976372,\"98,6\"\n",
      "australia,7686850,20264082,\"100,0\"\n",
      "austria,83870,8192880,\"98,0\"\n",
      "azerbaijan,86600,7961619,\"97,0\"\n",
      "bahrain,665,698585,\"89,1\"\n"
     ]
    }
   ],
   "source": [
    "!head Data/countries_info.csv"
   ]
  },
  {
   "cell_type": "code",
   "execution_count": 1,
   "metadata": {},
   "outputs": [],
   "source": [
    "import pandas as pd\n",
    "%matplotlib inline\n",
    "\n",
    "DATA_FOLDER = 'Data/'\n",
    "\n",
    "HAPPINESS_DATASET = DATA_FOLDER+\"happiness2020.csv\"\n",
    "COUNTRIES_DATASET = DATA_FOLDER+\"countries_info.csv\""
   ]
  },
  {
   "cell_type": "markdown",
   "metadata": {},
   "source": [
    "## Task 1: Load the data\n",
    "\n",
    "Load the 2 datasets in Pandas dataframes (called *happiness* and *countries*), and show the first rows.\n",
    "\n",
    "\n",
    "**Hint**: Use the correct reader and verify the data has the expected format."
   ]
  },
  {
   "cell_type": "code",
   "execution_count": 12,
   "metadata": {},
   "outputs": [
    {
     "name": "stdout",
     "output_type": "stream",
     "text": [
      "       country  happiness_score  social_support  healthy_life_expectancy  \\\n",
      "0  afghanistan           2.5669        0.470367                52.590000   \n",
      "1      albania           4.8827        0.671070                68.708138   \n",
      "2      algeria           5.0051        0.803385                65.905174   \n",
      "3    argentina           5.9747        0.900568                68.803802   \n",
      "4      armenia           4.6768        0.757479                66.750656   \n",
      "\n",
      "   freedom_of_choices  generosity  perception_of_corruption  \\\n",
      "0            0.396573   -0.096429                  0.933687   \n",
      "1            0.781994   -0.042309                  0.896304   \n",
      "2            0.466611   -0.121105                  0.735485   \n",
      "3            0.831132   -0.194914                  0.842010   \n",
      "4            0.712018   -0.138780                  0.773545   \n",
      "\n",
      "                         world_region  \n",
      "0                          South Asia  \n",
      "1          Central and Eastern Europe  \n",
      "2        Middle East and North Africa  \n",
      "3         Latin America and Caribbean  \n",
      "4  Commonwealth of Independent States  \n",
      "       country     area  population literacy\n",
      "0  afghanistan   647500    31056997     36,0\n",
      "1      albania    28748     3581655     86,5\n",
      "2      algeria  2381740    32930091     70,0\n",
      "3    argentina  2766890    39921833     97,1\n",
      "4      armenia    29800     2976372     98,6\n"
     ]
    }
   ],
   "source": [
    "# Write your code here\n",
    "happiness = pd.read_csv(HAPPINESS_DATASET)\n",
    "happiness[\"country\"] = happiness[\"country\"].str.lower()\n",
    "countries = pd.read_csv(COUNTRIES_DATASET)\n",
    "countries.rename(columns={\"country_name\": \"country\"}, inplace=True)\n",
    "print(happiness.head())\n",
    "print(countries.head())"
   ]
  },
  {
   "cell_type": "markdown",
   "metadata": {},
   "source": [
    "## Task 2: Let's merge the data\n",
    "\n",
    "Create a dataframe called *country_features* by merging *happiness* and *countries*. A row of this dataframe must describe all the features that we have about a country.\n",
    "\n",
    "**Hint**: Verify that all the rows are in the final dataframe."
   ]
  },
  {
   "cell_type": "code",
   "execution_count": 14,
   "metadata": {},
   "outputs": [
    {
     "name": "stdout",
     "output_type": "stream",
     "text": [
      "         country  happiness_score  social_support  healthy_life_expectancy  \\\n",
      "0    afghanistan           2.5669        0.470367                52.590000   \n",
      "1        albania           4.8827        0.671070                68.708138   \n",
      "2        algeria           5.0051        0.803385                65.905174   \n",
      "3      argentina           5.9747        0.900568                68.803802   \n",
      "4        armenia           4.6768        0.757479                66.750656   \n",
      "..           ...              ...             ...                      ...   \n",
      "130    venezuela           5.0532        0.890408                66.505341   \n",
      "131      vietnam           5.3535        0.849987                67.952736   \n",
      "132        yemen           3.5274        0.817981                56.727283   \n",
      "133       zambia           3.7594        0.698824                55.299377   \n",
      "134     zimbabwe           3.2992        0.763093                55.617260   \n",
      "\n",
      "     freedom_of_choices  generosity  perception_of_corruption  \\\n",
      "0              0.396573   -0.096429                  0.933687   \n",
      "1              0.781994   -0.042309                  0.896304   \n",
      "2              0.466611   -0.121105                  0.735485   \n",
      "3              0.831132   -0.194914                  0.842010   \n",
      "4              0.712018   -0.138780                  0.773545   \n",
      "..                  ...         ...                       ...   \n",
      "130            0.623278   -0.169091                  0.837038   \n",
      "131            0.939593   -0.094533                  0.796421   \n",
      "132            0.599920   -0.157735                  0.800288   \n",
      "133            0.806500    0.078037                  0.801290   \n",
      "134            0.711458   -0.072064                  0.810237   \n",
      "\n",
      "                           world_region     area  population literacy  \n",
      "0                            South Asia   647500    31056997     36,0  \n",
      "1            Central and Eastern Europe    28748     3581655     86,5  \n",
      "2          Middle East and North Africa  2381740    32930091     70,0  \n",
      "3           Latin America and Caribbean  2766890    39921833     97,1  \n",
      "4    Commonwealth of Independent States    29800     2976372     98,6  \n",
      "..                                  ...      ...         ...      ...  \n",
      "130         Latin America and Caribbean   912050    25730435     93,4  \n",
      "131                      Southeast Asia   329560    84402966     90,3  \n",
      "132        Middle East and North Africa   527970    21456188     50,2  \n",
      "133                  Sub-Saharan Africa   752614    11502010     80,6  \n",
      "134                  Sub-Saharan Africa   390580    12236805     90,7  \n",
      "\n",
      "[135 rows x 11 columns]\n"
     ]
    }
   ],
   "source": [
    "# Write your code here\n",
    "country_features = pd.merge(happiness, countries, on = \"country\")\n",
    "print(country_features)"
   ]
  },
  {
   "cell_type": "markdown",
   "metadata": {},
   "source": [
    "## Task 3: Where are people happier?\n",
    "\n",
    "Print the top 10 countries based on their happiness score (higher is better)."
   ]
  },
  {
   "cell_type": "code",
   "execution_count": 16,
   "metadata": {},
   "outputs": [
    {
     "name": "stdout",
     "output_type": "stream",
     "text": [
      "38         finland\n",
      "31         denmark\n",
      "115    switzerland\n",
      "50         iceland\n",
      "92          norway\n",
      "87     netherlands\n",
      "114         sweden\n",
      "88     new zealand\n",
      "6          austria\n",
      "72      luxembourg\n",
      "Name: country, dtype: object\n"
     ]
    }
   ],
   "source": [
    "# Write your code here\n",
    "top10 = country_features.sort_values(by=\"happiness_score\", ascending=False).head(10)\n",
    "print(top10[\"country\"])"
   ]
  },
  {
   "cell_type": "markdown",
   "metadata": {},
   "source": [
    "We are interested to know in what world region people are happier. \n",
    "\n",
    "Create and print a dataframe with the (1) average happiness score and (2) the number of contries for each world region.\n",
    "Sort the result to show the happiness ranking."
   ]
  },
  {
   "cell_type": "code",
   "execution_count": 21,
   "metadata": {},
   "outputs": [
    {
     "name": "stdout",
     "output_type": "stream",
     "text": [
      "                         world_region  avg_happiness  nb_countries\n",
      "5               North America and ANZ       7.173525             4\n",
      "9                      Western Europe       6.967405            20\n",
      "3         Latin America and Caribbean       5.971280            20\n",
      "0          Central and Eastern Europe       5.891393            14\n",
      "7                      Southeast Asia       5.517788             8\n",
      "2                           East Asia       5.483633             3\n",
      "1  Commonwealth of Independent States       5.358342            12\n",
      "4        Middle East and North Africa       5.269306            16\n",
      "8                  Sub-Saharan Africa       4.393856            32\n",
      "6                          South Asia       4.355083             6\n"
     ]
    }
   ],
   "source": [
    "# Write your code here\n",
    "stat_regions = (\n",
    "    country_features.groupby(\"world_region\")\n",
    "    .agg(\n",
    "        avg_happiness=(\"happiness_score\", \"mean\"),\n",
    "        nb_countries=(\"country\", \"count\")\n",
    "    )\n",
    "    .reset_index()\n",
    "    .sort_values(by=\"avg_happiness\", ascending=False)\n",
    "    )\n",
    "print(stat_regions)"
   ]
  },
  {
   "cell_type": "markdown",
   "metadata": {},
   "source": [
    "The first region has only a few countries! What are them and what is their score?"
   ]
  },
  {
   "cell_type": "code",
   "execution_count": 23,
   "metadata": {},
   "outputs": [
    {
     "name": "stdout",
     "output_type": "stream",
     "text": [
      "           country  happiness_score\n",
      "5        australia           7.2228\n",
      "21          canada           7.2321\n",
      "88     new zealand           7.2996\n",
      "127  united states           6.9396\n"
     ]
    }
   ],
   "source": [
    "# Write your code here\n",
    "subset_1 = country_features[country_features[\"world_region\"] == \"North America and ANZ\"][[\"country\",\"happiness_score\"]]\n",
    "print(subset)"
   ]
  },
  {
   "cell_type": "markdown",
   "metadata": {},
   "source": [
    "## Task 4: How literate is the world?\n",
    "\n",
    "Print the names of the countries with a level of literacy of 100%. \n",
    "\n",
    "For each country, print the name and the world region in the format: *{region name} - {country name} ({happiness score})*"
   ]
  },
  {
   "cell_type": "code",
   "execution_count": 34,
   "metadata": {},
   "outputs": [
    {
     "name": "stdout",
     "output_type": "stream",
     "text": [
      "North America and ANZ - australia (7.222799778)\n",
      "Western Europe - denmark (7.645599842)\n",
      "Western Europe - finland (7.808700085)\n",
      "Western Europe - luxembourg (7.237500191)\n",
      "Western Europe - norway (7.487999916000001)\n"
     ]
    }
   ],
   "source": [
    "# Write your code here\n",
    "subset_2 = country_features[country_features[\"literacy\"].str.replace(\",\", \".\").astype(float) == 100.0]\n",
    "for _, row in subset_2.iterrows():\n",
    "    print(f\"{row['world_region']} - {row['country']} ({row['happiness_score']})\")\n"
   ]
  },
  {
   "cell_type": "markdown",
   "metadata": {},
   "source": [
    "What is the global average?"
   ]
  },
  {
   "cell_type": "code",
   "execution_count": 36,
   "metadata": {},
   "outputs": [
    {
     "name": "stdout",
     "output_type": "stream",
     "text": [
      "81.85112781954888\n"
     ]
    }
   ],
   "source": [
    "# Write your code here\n",
    "print(country_features[\"literacy\"].str.replace(\",\", \".\").astype(float).mean())"
   ]
  },
  {
   "cell_type": "markdown",
   "metadata": {},
   "source": [
    "Calculate the proportion of countries with a literacy level below 50%. Print the value in percentage, formatted with 2 decimals."
   ]
  },
  {
   "cell_type": "code",
   "execution_count": 37,
   "metadata": {},
   "outputs": [
    {
     "name": "stdout",
     "output_type": "stream",
     "text": [
      "12.03%\n"
     ]
    }
   ],
   "source": [
    "# Write your code here\n",
    "below_50 = (country_features[\"literacy\"].str.replace(\",\", \".\").astype(float) < 50).sum()\n",
    "total = country_features[\"literacy\"].count()\n",
    "proportion = (below_50 / total) * 100\n",
    "print(f\"{proportion:.2f}%\")"
   ]
  },
  {
   "cell_type": "markdown",
   "metadata": {},
   "source": [
    "Print the raw number and the percentage of world population that is illiterate."
   ]
  },
  {
   "cell_type": "code",
   "execution_count": null,
   "metadata": {},
   "outputs": [
    {
     "name": "stdout",
     "output_type": "stream",
     "text": [
      "0\n",
      "0.00%\n"
     ]
    }
   ],
   "source": [
    "# Write your code here\n",
    "illiterate = 0.0\n",
    "for _, row in country_features[\"literacy\"].str.replace(\",\", \".\").astype(float).iterrows():\n",
    "#illiterate = (country_features[\"literacy\"].str.replace(\",\", \".\").astype(float) == 0.0).sum()\n",
    "    illiterate\n",
    "proportion_2 = (illiterate / total)*100\n",
    "print(illiterate)\n",
    "print(f\"{proportion_2:.2f}%\")"
   ]
  },
  {
   "cell_type": "markdown",
   "metadata": {},
   "source": [
    "## Task 5: Population density\n",
    "\n",
    "Add to the dataframe a new field called *population_density* computed by dividing *population* by *area*."
   ]
  },
  {
   "cell_type": "code",
   "execution_count": 12,
   "metadata": {},
   "outputs": [],
   "source": [
    "# Write your code here"
   ]
  },
  {
   "cell_type": "markdown",
   "metadata": {},
   "source": [
    "What is the happiness score of the 3 countries with the lowest population density?"
   ]
  },
  {
   "cell_type": "code",
   "execution_count": 13,
   "metadata": {},
   "outputs": [],
   "source": [
    "# Write your code here"
   ]
  },
  {
   "cell_type": "markdown",
   "metadata": {},
   "source": [
    "## Task 6: Healty and happy?\n",
    "\n",
    "Plot in a scatter plot the happiness score (x) and healty life expectancy (y)."
   ]
  },
  {
   "cell_type": "code",
   "execution_count": 14,
   "metadata": {},
   "outputs": [],
   "source": [
    "# Write your code here"
   ]
  },
  {
   "cell_type": "markdown",
   "metadata": {},
   "source": [
    "Feel free to continue the exploration of the dataset! We'll release the solutions next week.\n",
    "\n",
    "----\n",
    "Enjoy EPFL and be happy, next year Switzerland must be #1."
   ]
  }
 ],
 "metadata": {
  "kernelspec": {
   "display_name": "ada",
   "language": "python",
   "name": "python3"
  },
  "language_info": {
   "codemirror_mode": {
    "name": "ipython",
    "version": 3
   },
   "file_extension": ".py",
   "mimetype": "text/x-python",
   "name": "python",
   "nbconvert_exporter": "python",
   "pygments_lexer": "ipython3",
   "version": "3.13.5"
  }
 },
 "nbformat": 4,
 "nbformat_minor": 4
}
